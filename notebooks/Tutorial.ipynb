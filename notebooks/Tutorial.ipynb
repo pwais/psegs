{
 "cells": [
  {
   "cell_type": "markdown",
   "metadata": {},
   "source": [
    " * trailer: \n",
    "     * show a histogram with examples of distance / orientation with samples over ALL datasets\n",
    "     * show perf!  show time to fetch frames using Spark + Parquet\n",
    "     * show a video of one camera with debug overlays.  maybe one with delauny lidar too (!)\n",
    "     * show a frame HTML with 3d interface\n",
    "     * show new things: argo associated bikes, delauny lidar, occlusion tree\n",
    " * supported datasets, how to get a blurb and **stats** on each of them.  prolly render histo reports for each.\n",
    " * data structures:\n",
    "    * StampedDatum\n",
    "    * Frame"
   ]
  },
  {
   "cell_type": "code",
   "execution_count": 8,
   "metadata": {},
   "outputs": [
    {
     "name": "stderr",
     "output_type": "stream",
     "text": [
      "2020-03-15 11:01:10,913\tps   30003 : Loading /opt/psegs/dataroot/stamped_datum/stamped_datums ...\n"
     ]
    },
    {
     "name": "stdout",
     "output_type": "stream",
     "text": [
      "+--------------------+------------+-------+-----------+--------------------+--------------------+--------------+-----+--------------------+\n",
      "|         __pyclass__|camera_image|cuboids|point_cloud|           transform|                 uri|       dataset|split|          segment_id|\n",
      "+--------------------+------------+-------+-----------+--------------------+--------------------+--------------+-----+--------------------+\n",
      "|psegs.datum.stamp...|        null|     []|       null|[psegs.datum.tran...|[psegs.datum.uri....|kitti-tracking| test|kitti-tracking-te...|\n",
      "|psegs.datum.stamp...|        null|     []|       null|[psegs.datum.tran...|[psegs.datum.uri....|kitti-tracking| test|kitti-tracking-te...|\n",
      "|psegs.datum.stamp...|        null|     []|       null|[psegs.datum.tran...|[psegs.datum.uri....|kitti-tracking| test|kitti-tracking-te...|\n",
      "|psegs.datum.stamp...|        null|     []|       null|[psegs.datum.tran...|[psegs.datum.uri....|kitti-tracking| test|kitti-tracking-te...|\n",
      "|psegs.datum.stamp...|        null|     []|       null|[psegs.datum.tran...|[psegs.datum.uri....|kitti-tracking| test|kitti-tracking-te...|\n",
      "+--------------------+------------+-------+-----------+--------------------+--------------------+--------------+-----+--------------------+\n",
      "only showing top 5 rows\n",
      "\n"
     ]
    }
   ],
   "source": [
    "import sys\n",
    "sys.path.append('/opt/psegs')\n",
    "from oarphpy.spark import NBSpark\n",
    "NBSpark.SRC_ROOT = '/opt/psegs'\n",
    "NBSpark.SRC_ROOT_MODULES = ['psegs']\n",
    "NBSpark.MAYBE_REBUILD_EGG_EVERY_CELL_RUN = False\n",
    "NBSpark.CONF_KV = {\n",
    "    'spark.driver.memory': '8g',\n",
    "    'spark.pyspark.python': 'python3',\n",
    "    'spark.python.worker.reuse': False,\n",
    "    'spark.sql.files.maxPartitionBytes': int(8 * 1e6),\n",
    "    'spark.port.maxRetries': '256',\n",
    "  }\n",
    "from psegs.datasets import kitti\n",
    "\n",
    "spark = NBSpark.getOrCreate()\n",
    "df = kitti.KITTISDTable.as_df(spark)\n",
    "# df = spark.read.parquet('/tmp/avs_test/test_kitti_sd_table_tracking/sd_table/')\n",
    "df.show(5)\n",
    "# print(df.count())"
   ]
  },
  {
   "cell_type": "code",
   "execution_count": null,
   "metadata": {},
   "outputs": [],
   "source": []
  },
  {
   "cell_type": "code",
   "execution_count": 9,
   "metadata": {},
   "outputs": [],
   "source": [
    "# seg = df.filter('uri.segment_id = \"kitti-tracking-train-0009\"')"
   ]
  },
  {
   "cell_type": "code",
   "execution_count": 10,
   "metadata": {},
   "outputs": [],
   "source": [
    "# seg_uri = seg.select('uri').persist()\n",
    "df.createOrReplaceTempView('data')\n",
    "# seg_uri.show()"
   ]
  },
  {
   "cell_type": "code",
   "execution_count": 11,
   "metadata": {},
   "outputs": [
    {
     "name": "stdout",
     "output_type": "stream",
     "text": [
      "+-------------------------+--------+----+---------------------------------+---------------------------------+-------------+\n",
      "|seg                      |topic   |N   |max(uri.timestamp AS `timestamp`)|min(uri.timestamp AS `timestamp`)|len          |\n",
      "+-------------------------+--------+----+---------------------------------+---------------------------------+-------------+\n",
      "|kitti-tracking-train-0012|ego_pose|78  |1317047690486674021              |1317047682506437291              |7.980236730  |\n",
      "|kitti-tracking-test-0027 |ego_pose|85  |9400000000                       |1000000000                       |8.400000000  |\n",
      "|kitti-tracking-train-0014|ego_pose|106 |1317212788870919845              |1317212777989915167              |10.881004678 |\n",
      "|kitti-tracking-test-0006 |ego_pose|114 |12300000000                      |1000000000                       |11.300000000 |\n",
      "|kitti-tracking-test-0001 |ego_pose|147 |15600000000                      |1000000000                       |14.600000000 |\n",
      "|kitti-tracking-train-0003|ego_pose|144 |1317042665986181190              |1317042651175862102              |14.810319088 |\n",
      "|kitti-tracking-train-0017|ego_pose|145 |1317214216936299515              |1317214202014800047              |14.921499468 |\n",
      "|kitti-tracking-test-0013 |ego_pose|152 |16100000000                      |1000000000                       |15.100000000 |\n",
      "|kitti-tracking-train-0000|ego_pose|154 |1317042288150407950              |1317042272349659964              |15.800747986 |\n",
      "|kitti-tracking-test-0008 |ego_pose|165 |17400000000                      |1000000000                       |16.400000000 |\n",
      "|kitti-tracking-test-0026 |ego_pose|170 |17900000000                      |1000000000                       |16.900000000 |\n",
      "|kitti-tracking-test-0020 |ego_pose|173 |18200000000                      |1000000000                       |17.200000000 |\n",
      "|kitti-tracking-test-0028 |ego_pose|175 |18400000000                      |1000000000                       |17.400000000 |\n",
      "|kitti-tracking-test-0025 |ego_pose|176 |18500000000                      |1000000000                       |17.500000000 |\n",
      "|kitti-tracking-test-0018 |ego_pose|180 |18900000000                      |1000000000                       |17.900000000 |\n",
      "|kitti-tracking-test-0021 |ego_pose|203 |21200000000                      |1000000000                       |20.200000000 |\n",
      "|kitti-tracking-test-0007 |ego_pose|215 |22400000000                      |1000000000                       |21.400000000 |\n",
      "|kitti-tracking-train-0016|ego_pose|209 |1317213586196480375              |1317213564634416006              |21.562064369 |\n",
      "|kitti-tracking-train-0002|ego_pose|233 |1317042628804647883              |1317042604783813635              |24.020834248 |\n",
      "|kitti-tracking-test-0002 |ego_pose|243 |25200000000                      |1000000000                       |24.200000000 |\n",
      "|kitti-tracking-test-0003 |ego_pose|257 |26600000000                      |1000000000                       |25.600000000 |\n",
      "|kitti-tracking-train-0006|ego_pose|270 |1317042840083540847              |1317042812212564044              |27.870976803 |\n",
      "|kitti-tracking-train-0010|ego_pose|294 |1317047266518934401              |1317047236227585876              |30.291348525 |\n",
      "|kitti-tracking-test-0017 |ego_pose|305 |31400000000                      |1000000000                       |30.400000000 |\n",
      "|kitti-tracking-train-0005|ego_pose|297 |1317042754620001838              |1317042723968689565              |30.651312273 |\n",
      "|kitti-tracking-test-0024 |ego_pose|316 |32500000000                      |1000000000                       |31.500000000 |\n",
      "|kitti-tracking-train-0004|ego_pose|314 |1317042707818025793              |1317042675406628381              |32.411397412 |\n",
      "|kitti-tracking-test-0009 |ego_pose|349 |35800000000                      |1000000000                       |34.800000000 |\n",
      "|kitti-tracking-train-0013|ego_pose|340 |1317050059455112233              |1317050024353650629              |35.101461604 |\n",
      "|kitti-tracking-train-0018|ego_pose|339 |1317298821328237888              |1317298786182722497              |35.145515391 |\n",
      "|kitti-tracking-train-0011|ego_pose|373 |1317047668015735392              |1317047629504094143              |38.511641249 |\n",
      "|kitti-tracking-train-0015|ego_pose|376 |1317212855117202792              |1317212816233527746              |38.883675046 |\n",
      "|kitti-tracking-test-0019 |ego_pose|404 |41300000000                      |1000000000                       |40.300000000 |\n",
      "|kitti-tracking-train-0008|ego_pose|390 |1317043791703541667              |1317043751391827058              |40.311714609 |\n",
      "|kitti-tracking-test-0004 |ego_pose|421 |43000000000                      |1000000000                       |42.000000000 |\n",
      "|kitti-tracking-test-0023 |ego_pose|430 |43900000000                      |1000000000                       |42.900000000 |\n",
      "|kitti-tracking-test-0022 |ego_pose|436 |44500000000                      |1000000000                       |43.500000000 |\n",
      "|kitti-tracking-train-0001|ego_pose|447 |1317042551141366855              |1317042504969505176              |46.171861679 |\n",
      "|kitti-tracking-test-0000 |ego_pose|465 |47400000000                      |1000000000                       |46.400000000 |\n",
      "|kitti-tracking-test-0016 |ego_pose|510 |51900000000                      |1000000000                       |50.900000000 |\n",
      "|kitti-tracking-test-0012 |ego_pose|694 |70300000000                      |1000000000                       |69.300000000 |\n",
      "|kitti-tracking-test-0015 |ego_pose|701 |71000000000                      |1000000000                       |70.000000000 |\n",
      "|kitti-tracking-test-0011 |ego_pose|774 |78300000000                      |1000000000                       |77.300000000 |\n",
      "|kitti-tracking-test-0005 |ego_pose|809 |81800000000                      |1000000000                       |80.800000000 |\n",
      "|kitti-tracking-train-0007|ego_pose|800 |1317043038782032444              |1317042956008430997              |82.773601447 |\n",
      "|kitti-tracking-train-0009|ego_pose|803 |1317045825267691136              |1317045742484109563              |82.783581573 |\n",
      "|kitti-tracking-test-0014 |ego_pose|850 |85900000000                      |1000000000                       |84.900000000 |\n",
      "|kitti-tracking-train-0020|ego_pose|837 |1317653933666753421              |1317653847036448963              |86.630304458 |\n",
      "|kitti-tracking-train-0019|ego_pose|1059|1317304609881934723              |1317304499995847336              |109.886087387|\n",
      "|kitti-tracking-test-0010 |ego_pose|1176|118500000000                     |1000000000                       |117.500000000|\n",
      "+-------------------------+--------+----+---------------------------------+---------------------------------+-------------+\n",
      "\n"
     ]
    }
   ],
   "source": [
    "spark.sql(\"\"\"\n",
    "    SELECT\n",
    "      uri.segment_id AS seg, \n",
    "      uri.topic AS topic,\n",
    "      count(*) AS N,\n",
    "      MAX(uri.timestamp),\n",
    "      MIN(uri.timestamp),\n",
    "      (MAX(uri.timestamp) - MIN(uri.timestamp)) * 1e-9 AS len\n",
    "    FROM data\n",
    "    GROUP BY topic, seg\n",
    "    ORDER BY len ASC\n",
    "\"\"\").show(1000, truncate=False)"
   ]
  },
  {
   "cell_type": "code",
   "execution_count": null,
   "metadata": {},
   "outputs": [],
   "source": []
  },
  {
   "cell_type": "code",
   "execution_count": null,
   "metadata": {},
   "outputs": [],
   "source": []
  }
 ],
 "metadata": {
  "kernelspec": {
   "display_name": "Python 3",
   "language": "python",
   "name": "python3"
  },
  "language_info": {
   "codemirror_mode": {
    "name": "ipython",
    "version": 3
   },
   "file_extension": ".py",
   "mimetype": "text/x-python",
   "name": "python",
   "nbconvert_exporter": "python",
   "pygments_lexer": "ipython3",
   "version": "3.6.8"
  }
 },
 "nbformat": 4,
 "nbformat_minor": 2
}
