{
 "cells": [
  {
   "cell_type": "code",
   "execution_count": null,
   "metadata": {
    "scrolled": false
   },
   "outputs": [],
   "source": [
    "# !pip3 install -U pybullet\n",
    "\n",
    "%load_ext autoreload\n",
    "%autoreload 2\n",
    "\n",
    "import sys\n",
    "sys.path.append('/opt/psegs')\n",
    "\n",
    "from psegs.render import pybullet_ttc as pbttc\n",
    "\n",
    "ob1 = pbttc.CuboidAgent()\n",
    "ob2 = pbttc.CuboidAgent()\n",
    "\n",
    "sim = pbttc.PyBulletSim(cuboid_agents=[ob1, ob2])\n",
    "\n",
    "sim.run(debug_video_out='pybullet_debug_out.mp4')\n",
    "\n",
    "from IPython.display import Video\n",
    "Video('pybullet_debug_out.mp4')\n",
    "\n"
   ]
  },
  {
   "cell_type": "code",
   "execution_count": null,
   "metadata": {},
   "outputs": [],
   "source": []
  }
 ],
 "metadata": {
  "kernelspec": {
   "display_name": "Python 3",
   "language": "python",
   "name": "python3"
  },
  "language_info": {
   "codemirror_mode": {
    "name": "ipython",
    "version": 3
   },
   "file_extension": ".py",
   "mimetype": "text/x-python",
   "name": "python",
   "nbconvert_exporter": "python",
   "pygments_lexer": "ipython3",
   "version": "3.8.2"
  }
 },
 "nbformat": 4,
 "nbformat_minor": 4
}
