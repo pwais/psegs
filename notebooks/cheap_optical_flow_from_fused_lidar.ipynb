{
 "cells": [
  {
   "cell_type": "markdown",
   "metadata": {},
   "source": [
    "# Synthetic Optical Flow from Fused Lidar\n"
   ]
  },
  {
   "cell_type": "code",
   "execution_count": 1,
   "metadata": {},
   "outputs": [],
   "source": [
    "import sys\n",
    "sys.path.append('/opt/psegs')\n",
    "\n",
    "import numpy as np\n",
    "\n",
    "from psegs.exp.fused_lidar import FusedWorldCloudTableBase"
   ]
  },
  {
   "cell_type": "markdown",
   "metadata": {},
   "source": [
    "## SemanticKITTI"
   ]
  },
  {
   "cell_type": "code",
   "execution_count": 2,
   "metadata": {},
   "outputs": [],
   "source": [
    "from psegs.exp.semantic_kitti import SemanticKITTISDTable\n",
    "class SemanticKITTIFusedWorldCloudTable(FusedWorldCloudTableBase):\n",
    "    SRC_SD_TABLE = SemanticKITTISDTable\n",
    "    \n",
    "    @classmethod\n",
    "    def _get_task_lidar_cuboid_rdd(cls, spark, segment_uri):\n",
    "        seg_rdd = cls.SRC_SD_TABLE.get_segment_datum_rdd(spark, segment_uri)\n",
    "        \n",
    "        # SemanticKITTI has no cuboids, so the Fuser algo simply concats the cloud points\n",
    "        def iter_task_rows(iter_sds):\n",
    "            from pyspark import Row\n",
    "            from oarphpy.spark import RowAdapter\n",
    "            for sd in iter_sds:\n",
    "                if sd.point_cloud is not None:\n",
    "                    pc = sd.point_cloud\n",
    "                    task_id = \"%s.%s\" % (sd.uri.segment_id, pc.extra['semantic_kitti.scan_id'])\n",
    "                    yield Row(\n",
    "                        task_id=task_id,\n",
    "                        point_clouds=[pc],\n",
    "                        cuboids=[])\n",
    "        \n",
    "        task_rdd = seg_rdd.mapPartitions(iter_task_rows)\n",
    "        return task_rdd\n",
    "        \n"
   ]
  },
  {
   "cell_type": "markdown",
   "metadata": {},
   "source": [
    "## KITTI-360"
   ]
  },
  {
   "cell_type": "code",
   "execution_count": 3,
   "metadata": {},
   "outputs": [],
   "source": [
    "from psegs.datasets.kitti_360 import KITTI360SDTable\n",
    "class KITTI360OurFusedClouds(KITTI360SDTable):\n",
    "    INCLUDE_FISHEYES = False\n",
    "    INCLUDE_FUSED_CLOUDS = False  # Use our own fused clouds\n",
    "\n",
    "class KITTI360OurFusedWorldCloudTable(FusedWorldCloudTableBase):\n",
    "    SRC_SD_TABLE = KITTI360OurFusedClouds\n",
    "    \n",
    "    @classmethod\n",
    "    def _get_task_lidar_cuboid_rdd(cls, spark, segment_uri):\n",
    "        datum_df = cls.SRC_SD_TABLE.get_segment_datum_df(spark, segment_uri)\n",
    "        datum_df.registerTempTable('datums')\n",
    "        spark.sql(\"\"\"\n",
    "          CACHE TABLE culi_tasks_df OPTIONS ( 'storageLevel' 'DISK_ONLY' ) AS\n",
    "          SELECT \n",
    "              CONCAT(uri.segment_id, '.', uri.extra.`kitti-360.frame_id`) AS task_id,\n",
    "              FLATTEN(COLLECT_LIST(cuboids)) AS cuboids, \n",
    "              COLLECT_LIST(point_cloud) AS point_clouds\n",
    "          FROM datums\n",
    "          WHERE \n",
    "              uri.topic LIKE '%cuboid%' OR uri.topic LIKE '%lidar%'\n",
    "          GROUP BY task_id\n",
    "        \"\"\")\n",
    "        tasks_df = spark.sql('SELECT * FROM culi_tasks_df')\n",
    "        return tasks_df.rdd\n"
   ]
  },
  {
   "cell_type": "markdown",
   "metadata": {},
   "source": [
    "## NuScenes"
   ]
  },
  {
   "cell_type": "code",
   "execution_count": 7,
   "metadata": {
    "scrolled": false
   },
   "outputs": [
    {
     "name": "stdout",
     "output_type": "stream",
     "text": [
      "Requirement already satisfied: nuscenes-devkit==1.1.2 in /usr/local/lib/python3.8/dist-packages (1.1.2)\n",
      "Requirement already satisfied: scikit-learn in /usr/lib/python3/dist-packages (from nuscenes-devkit==1.1.2) (0.22.2.post1)\n",
      "Requirement already satisfied: matplotlib in /usr/lib/python3/dist-packages (from nuscenes-devkit==1.1.2) (3.1.2)\n",
      "Requirement already satisfied: opencv-python in /usr/local/lib/python3.8/dist-packages (from nuscenes-devkit==1.1.2) (4.5.1.48)\n",
      "Requirement already satisfied: descartes in /usr/local/lib/python3.8/dist-packages (from nuscenes-devkit==1.1.2) (1.1.0)\n",
      "Requirement already satisfied: scipy in /usr/local/lib/python3.8/dist-packages (from nuscenes-devkit==1.1.2) (1.6.0)\n",
      "Requirement already satisfied: tqdm in /usr/local/lib/python3.8/dist-packages (from nuscenes-devkit==1.1.2) (4.56.2)\n",
      "Requirement already satisfied: Pillow in /usr/lib/python3/dist-packages (from nuscenes-devkit==1.1.2) (7.0.0)\n",
      "Requirement already satisfied: jupyter in /usr/local/lib/python3.8/dist-packages (from nuscenes-devkit==1.1.2) (1.0.0)\n",
      "Requirement already satisfied: Shapely in /usr/local/lib/python3.8/dist-packages (from nuscenes-devkit==1.1.2) (1.7.1)\n",
      "Requirement already satisfied: pyquaternion>=0.9.5 in /usr/local/lib/python3.8/dist-packages (from nuscenes-devkit==1.1.2) (0.9.9)\n",
      "Requirement already satisfied: pycocotools>=2.0.1 in /usr/local/lib/python3.8/dist-packages (from nuscenes-devkit==1.1.2) (2.0.2)\n",
      "Requirement already satisfied: numpy in /usr/local/lib/python3.8/dist-packages (from nuscenes-devkit==1.1.2) (1.20.1)\n",
      "Requirement already satisfied: cachetools in /usr/lib/python3/dist-packages (from nuscenes-devkit==1.1.2) (4.0.0)\n",
      "Requirement already satisfied: fire in /usr/local/lib/python3.8/dist-packages (from nuscenes-devkit==1.1.2) (0.4.0)\n",
      "Requirement already satisfied: setuptools>=18.0 in /usr/local/lib/python3.8/dist-packages (from pycocotools>=2.0.1->nuscenes-devkit==1.1.2) (53.0.0)\n",
      "Requirement already satisfied: cython>=0.27.3 in /usr/local/lib/python3.8/dist-packages (from pycocotools>=2.0.1->nuscenes-devkit==1.1.2) (0.29.21)\n",
      "Requirement already satisfied: termcolor in /usr/lib/python3/dist-packages (from fire->nuscenes-devkit==1.1.2) (1.1.0)\n",
      "Requirement already satisfied: six in /usr/local/lib/python3.8/dist-packages (from fire->nuscenes-devkit==1.1.2) (1.15.0)\n",
      "Requirement already satisfied: ipykernel in /usr/lib/python3/dist-packages (from jupyter->nuscenes-devkit==1.1.2) (5.2.0)\n",
      "Requirement already satisfied: notebook in /usr/local/lib/python3.8/dist-packages (from jupyter->nuscenes-devkit==1.1.2) (6.2.0)\n",
      "Requirement already satisfied: ipywidgets in /usr/local/lib/python3.8/dist-packages (from jupyter->nuscenes-devkit==1.1.2) (7.6.3)\n",
      "Requirement already satisfied: jupyter-console in /usr/lib/python3/dist-packages (from jupyter->nuscenes-devkit==1.1.2) (6.0.0)\n",
      "Requirement already satisfied: nbconvert in /usr/local/lib/python3.8/dist-packages (from jupyter->nuscenes-devkit==1.1.2) (6.0.7)\n",
      "Requirement already satisfied: qtconsole in /usr/local/lib/python3.8/dist-packages (from jupyter->nuscenes-devkit==1.1.2) (5.0.2)\n",
      "Requirement already satisfied: ipython>=4.0.0 in /usr/lib/python3/dist-packages (from ipywidgets->jupyter->nuscenes-devkit==1.1.2) (7.13.0)\n",
      "Requirement already satisfied: nbformat>=4.2.0 in /usr/lib/python3/dist-packages (from ipywidgets->jupyter->nuscenes-devkit==1.1.2) (5.0.4)\n",
      "Requirement already satisfied: widgetsnbextension~=3.5.0 in /usr/local/lib/python3.8/dist-packages (from ipywidgets->jupyter->nuscenes-devkit==1.1.2) (3.5.1)\n",
      "Requirement already satisfied: jupyterlab-widgets>=1.0.0 in /usr/local/lib/python3.8/dist-packages (from ipywidgets->jupyter->nuscenes-devkit==1.1.2) (1.0.0)\n",
      "Requirement already satisfied: traitlets>=4.3.1 in /usr/lib/python3/dist-packages (from ipywidgets->jupyter->nuscenes-devkit==1.1.2) (4.3.3)\n",
      "Requirement already satisfied: pexpect in /usr/lib/python3/dist-packages (from ipython>=4.0.0->ipywidgets->jupyter->nuscenes-devkit==1.1.2) (4.6.0)\n",
      "Requirement already satisfied: prometheus-client in /usr/local/lib/python3.8/dist-packages (from notebook->jupyter->nuscenes-devkit==1.1.2) (0.9.0)\n",
      "Requirement already satisfied: jupyter-core>=4.6.1 in /usr/lib/python3/dist-packages (from notebook->jupyter->nuscenes-devkit==1.1.2) (4.6.3)\n",
      "Requirement already satisfied: pyzmq>=17 in /usr/lib/python3/dist-packages (from notebook->jupyter->nuscenes-devkit==1.1.2) (18.1.1)\n",
      "Requirement already satisfied: jinja2 in /usr/local/lib/python3.8/dist-packages (from notebook->jupyter->nuscenes-devkit==1.1.2) (2.11.3)\n",
      "Requirement already satisfied: ipython-genutils in /usr/lib/python3/dist-packages (from notebook->jupyter->nuscenes-devkit==1.1.2) (0.2.0)\n",
      "Requirement already satisfied: jupyter-client>=5.3.4 in /usr/local/lib/python3.8/dist-packages (from notebook->jupyter->nuscenes-devkit==1.1.2) (6.1.11)\n",
      "Requirement already satisfied: terminado>=0.8.3 in /usr/local/lib/python3.8/dist-packages (from notebook->jupyter->nuscenes-devkit==1.1.2) (0.9.2)\n",
      "Requirement already satisfied: tornado>=6.1 in /usr/local/lib/python3.8/dist-packages (from notebook->jupyter->nuscenes-devkit==1.1.2) (6.1)\n",
      "Requirement already satisfied: Send2Trash>=1.5.0 in /usr/local/lib/python3.8/dist-packages (from notebook->jupyter->nuscenes-devkit==1.1.2) (1.5.0)\n",
      "Requirement already satisfied: argon2-cffi in /usr/local/lib/python3.8/dist-packages (from notebook->jupyter->nuscenes-devkit==1.1.2) (20.1.0)\n",
      "Requirement already satisfied: python-dateutil>=2.1 in /usr/local/lib/python3.8/dist-packages (from jupyter-client>=5.3.4->notebook->jupyter->nuscenes-devkit==1.1.2) (2.8.1)\n",
      "Requirement already satisfied: ptyprocess in /usr/local/lib/python3.8/dist-packages (from terminado>=0.8.3->notebook->jupyter->nuscenes-devkit==1.1.2) (0.7.0)\n",
      "Requirement already satisfied: cffi>=1.0.0 in /usr/local/lib/python3.8/dist-packages (from argon2-cffi->notebook->jupyter->nuscenes-devkit==1.1.2) (1.14.4)\n",
      "Requirement already satisfied: pycparser in /usr/local/lib/python3.8/dist-packages (from cffi>=1.0.0->argon2-cffi->notebook->jupyter->nuscenes-devkit==1.1.2) (2.20)\n",
      "Requirement already satisfied: MarkupSafe>=0.23 in /usr/lib/python3/dist-packages (from jinja2->notebook->jupyter->nuscenes-devkit==1.1.2) (1.1.0)\n",
      "Requirement already satisfied: pygments>=2.4.1 in /usr/local/lib/python3.8/dist-packages (from nbconvert->jupyter->nuscenes-devkit==1.1.2) (2.7.4)\n",
      "Requirement already satisfied: nbclient<0.6.0,>=0.5.0 in /usr/local/lib/python3.8/dist-packages (from nbconvert->jupyter->nuscenes-devkit==1.1.2) (0.5.2)\n",
      "Requirement already satisfied: jupyterlab-pygments in /usr/local/lib/python3.8/dist-packages (from nbconvert->jupyter->nuscenes-devkit==1.1.2) (0.1.2)\n",
      "Requirement already satisfied: pandocfilters>=1.4.1 in /usr/local/lib/python3.8/dist-packages (from nbconvert->jupyter->nuscenes-devkit==1.1.2) (1.4.3)\n",
      "Requirement already satisfied: defusedxml in /usr/local/lib/python3.8/dist-packages (from nbconvert->jupyter->nuscenes-devkit==1.1.2) (0.6.0)\n",
      "Requirement already satisfied: bleach in /usr/lib/python3/dist-packages (from nbconvert->jupyter->nuscenes-devkit==1.1.2) (3.1.1)\n",
      "Requirement already satisfied: entrypoints>=0.2.2 in /usr/lib/python3/dist-packages (from nbconvert->jupyter->nuscenes-devkit==1.1.2) (0.3)\n",
      "Requirement already satisfied: mistune<2,>=0.8.1 in /usr/local/lib/python3.8/dist-packages (from nbconvert->jupyter->nuscenes-devkit==1.1.2) (0.8.4)\n",
      "Requirement already satisfied: testpath in /usr/local/lib/python3.8/dist-packages (from nbconvert->jupyter->nuscenes-devkit==1.1.2) (0.4.4)\n",
      "Requirement already satisfied: nest-asyncio in /usr/local/lib/python3.8/dist-packages (from nbclient<0.6.0,>=0.5.0->nbconvert->jupyter->nuscenes-devkit==1.1.2) (1.5.1)\n",
      "Requirement already satisfied: async-generator in /usr/local/lib/python3.8/dist-packages (from nbclient<0.6.0,>=0.5.0->nbconvert->jupyter->nuscenes-devkit==1.1.2) (1.10)\n",
      "Requirement already satisfied: qtpy in /usr/local/lib/python3.8/dist-packages (from qtconsole->jupyter->nuscenes-devkit==1.1.2) (1.9.0)\n"
     ]
    }
   ],
   "source": [
    "!pip3 install nuscenes-devkit==1.1.2\n",
    "from psegs.datasets.nuscenes import NuscStampedDatumTableBase\n",
    "class NuscFusedWorldCloudTable(FusedWorldCloudTableBase):\n",
    "    SRC_SD_TABLE = NuscStampedDatumTableBase\n",
    "    \n",
    "    SPLITS = ['train_detect', 'train_track']\n",
    "    \n",
    "    @classmethod\n",
    "    def _filter_ego_vehicle(cls, cloud_ego):\n",
    "        cloud_ego = cloud_ego[np.where(  ~(\n",
    "                        (cloud_ego[:, 0] <= 1.5) & (cloud_ego[:, 0] >= -1.5) &  # Nusc lidar +x is +right\n",
    "                        (cloud_ego[:, 1] <= 2.5) & (cloud_ego[:, 0] >= -2.5) &  # Nusc lidar +y is +forward\n",
    "                        (cloud_ego[:, 1] <= 1.5) & (cloud_ego[:, 0] >= -1.5)   # Nusc lidar +z is +up\n",
    "        ))]\n",
    "        return cloud_ego\n",
    "    \n",
    "    @classmethod\n",
    "    def _get_task_lidar_cuboid_rdd(cls, spark, segment_uri):\n",
    "        datum_df = cls.SRC_SD_TABLE.get_segment_datum_df(spark, segment_uri)\n",
    "        datum_df.registerTempTable('datums')\n",
    "        \n",
    "        if cls.SRC_SD_TABLE.LABELS_KEYFRAMES_ONLY:\n",
    "            # For Nusc: group by nuscenes-sample-token WITH KEYFRAMES\n",
    "            spark.sql(\"\"\"\n",
    "              CACHE TABLE culi_tasks_df OPTIONS ( 'storageLevel' 'DISK_ONLY' ) AS\n",
    "              SELECT \n",
    "                  uri.extra.`nuscenes-sample-token` AS task_id,\n",
    "                  FLATTEN(COLLECT_LIST(cuboids)) AS cuboids, \n",
    "                  COLLECT_LIST(point_cloud) AS point_clouds\n",
    "              FROM datums\n",
    "              WHERE \n",
    "                uri.extra.`nuscenes-is-keyframe` = 'True' AND (\n",
    "                  uri.extra['nuscenes-label-channel'] is NULL OR \n",
    "                  uri.extra['nuscenes-label-channel'] LIKE '%LIDAR%'\n",
    "                ) AND (\n",
    "                  uri.topic LIKE '%cuboid%' OR\n",
    "                  uri.topic LIKE '%lidar%'\n",
    "                )\n",
    "              GROUP BY task_id\n",
    "            \"\"\")\n",
    "        else:\n",
    "            # For Nusc: group by nuscenes-sample-token WITH ALL FRAMES\n",
    "            spark.sql(\"\"\"\n",
    "              CACHE TABLE culi_tasks_df OPTIONS ( 'storageLevel' 'DISK_ONLY' ) AS\n",
    "              SELECT \n",
    "                  CONCAT(uri.segment_id, '.', uri.timestamp) AS task_id,\n",
    "                  FLATTEN(COLLECT_LIST(cuboids)) AS cuboids, \n",
    "                  COLLECT_LIST(point_cloud) AS point_clouds\n",
    "              FROM datums\n",
    "              WHERE \n",
    "                (\n",
    "                  uri.extra['nuscenes-label-channel'] is NULL OR \n",
    "                  uri.extra['nuscenes-label-channel'] LIKE '%LIDAR%'\n",
    "                ) AND (\n",
    "                  uri.topic LIKE '%cuboid%' OR\n",
    "                  uri.topic LIKE '%lidar%'\n",
    "                )\n",
    "              GROUP BY task_id\n",
    "              HAVING SIZE(cuboids) > 0 AND SIZE(pcs) > 0\n",
    "            \"\"\")\n",
    "        \n",
    "        tasks_df = spark.sql('SELECT * FROM culi_tasks_df')\n",
    "        return tasks_df.rdd\n"
   ]
  },
  {
   "cell_type": "markdown",
   "metadata": {},
   "source": [
    "## Start Spark"
   ]
  },
  {
   "cell_type": "code",
   "execution_count": 5,
   "metadata": {},
   "outputs": [
    {
     "name": "stderr",
     "output_type": "stream",
     "text": [
      "2021-02-12 05:28:17,823\toarph 93627 : Using source root /opt/psegs/psegs \n",
      "2021-02-12 05:28:17,824\toarph 93627 : Using source root /opt/psegs \n",
      "2021-02-12 05:28:17,871\toarph 93627 : Generating egg to /tmp/tmp7h2rh4l0_oarphpy_eggbuild ...\n",
      "2021-02-12 05:28:18,007\toarph 93627 : ... done.  Egg at /tmp/tmp7h2rh4l0_oarphpy_eggbuild/psegs-0.0.0-py3.8.egg\n"
     ]
    }
   ],
   "source": [
    "from psegs.spark import NBSpark\n",
    "spark = NBSpark.getOrCreate()"
   ]
  },
  {
   "cell_type": "markdown",
   "metadata": {},
   "source": [
    "## Build Fused Lidar Assets\n",
    "\n",
    "```\n",
    "docker --context default run -it --name=potree_viewer --rm --net=host -v `pwd`:/shared  jonazpiazu/potree\n",
    "```"
   ]
  },
  {
   "cell_type": "code",
   "execution_count": 8,
   "metadata": {
    "scrolled": false
   },
   "outputs": [
    {
     "name": "stderr",
     "output_type": "stream",
     "text": [
      "2021-02-12 05:30:19,540\tps   93627 : Filtering to only 1 segments\n",
      "2021-02-12 05:30:19,541\tps   93627 : NuscFusedWorldCloudTable building fused world clouds ...\n",
      "2021-02-12 05:30:19,541\tps   93627 : ... have 1 segments to fuse ...\n",
      "2021-02-12 05:30:19,542\tps   93627 : ... working on scene-1013 ...\n",
      "2021-02-12 05:30:21,028\tps   93627 : Filtering to only 1 segments\n",
      "2021-02-12 05:32:48,293\tps   93627 : ... computed world cloud for scene-1013 of shape (1063496, 3) (0.03 GB) ...\n",
      "2021-02-12 05:32:48,293\tps   93627 : ... writing ply to /opt/psegs/dataroot/fused_world_clouds/naive_cuboid_scrubber/nuscenes/train_detect/scene-1013/fused_world.ply ...\n",
      "2021-02-12 05:32:51,427\tps   93627 : ... done writing ply ...\n",
      "INFO - 2021-02-12 05:32:51,427 - fused_lidar - ... done writing ply ...\n",
      "2021-02-12 05:32:51,429\tps   93627 : ... NuscFusedWorldCloudTable done fusing clouds.\n",
      "INFO - 2021-02-12 05:32:51,429 - fused_lidar - ... NuscFusedWorldCloudTable done fusing clouds.\n"
     ]
    },
    {
     "name": "stdout",
     "output_type": "stream",
     "text": [
      "1\n"
     ]
    }
   ],
   "source": [
    "seg_uris = NuscFusedWorldCloudTable.get_all_segment_uris()\n",
    "sd_rdd = NuscFusedWorldCloudTable._get_segment_datum_rdd_or_df(spark, seg_uris[0])\n",
    "print(sd_rdd.count())"
   ]
  },
  {
   "cell_type": "code",
   "execution_count": null,
   "metadata": {
    "scrolled": false
   },
   "outputs": [],
   "source": []
  },
  {
   "cell_type": "code",
   "execution_count": null,
   "metadata": {},
   "outputs": [],
   "source": []
  },
  {
   "cell_type": "code",
   "execution_count": null,
   "metadata": {},
   "outputs": [],
   "source": []
  },
  {
   "cell_type": "code",
   "execution_count": null,
   "metadata": {},
   "outputs": [],
   "source": []
  }
 ],
 "metadata": {
  "kernelspec": {
   "display_name": "Python 3",
   "language": "python",
   "name": "python3"
  },
  "language_info": {
   "codemirror_mode": {
    "name": "ipython",
    "version": 3
   },
   "file_extension": ".py",
   "mimetype": "text/x-python",
   "name": "python",
   "nbconvert_exporter": "python",
   "pygments_lexer": "ipython3",
   "version": "3.8.2"
  }
 },
 "nbformat": 4,
 "nbformat_minor": 4
}
