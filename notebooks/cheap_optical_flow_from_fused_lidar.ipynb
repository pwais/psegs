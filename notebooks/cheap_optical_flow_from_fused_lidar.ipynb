{
 "cells": [
  {
   "cell_type": "markdown",
   "metadata": {},
   "source": [
    "# Synthetic Optical Flow from Fused Lidar\n"
   ]
  },
  {
   "cell_type": "code",
   "execution_count": 1,
   "metadata": {},
   "outputs": [],
   "source": [
    "import sys\n",
    "sys.path.append('/opt/psegs')"
   ]
  },
  {
   "cell_type": "markdown",
   "metadata": {},
   "source": [
    "## SemanticKITTI"
   ]
  },
  {
   "cell_type": "code",
   "execution_count": 2,
   "metadata": {},
   "outputs": [],
   "source": [
    "from psegs.exp.semantic_kitti import SemanticKITTISDTable\n",
    "from psegs.exp.fused_lidar import FusedWorldCloudTableBase\n",
    "\n",
    "class SemanticKITTIFusedWorldCloudTable(FusedWorldCloudTableBase):\n",
    "    SRC_SD_TABLE = SemanticKITTISDTable\n",
    "    \n",
    "    @classmethod\n",
    "    def _get_task_lidar_cuboid_rdd(cls, spark, segment_uri):\n",
    "        seg_rdd = cls.SRC_SD_TABLE.get_segment_datum_rdd(spark, segment_uri)\n",
    "        \n",
    "        # SemanticKITTI has no cuboids, so the Fuser algo simply concats the cloud points\n",
    "        def iter_task_rows(iter_sds):\n",
    "            from pyspark import Row\n",
    "            from oarphpy.spark import RowAdapter\n",
    "            for sd in iter_sds:\n",
    "                if sd.point_cloud is not None:\n",
    "                    pc = sd.point_cloud\n",
    "                    task_id = \"%s.%s\" % (sd.uri.segment_id, pc.extra['semantic_kitti.scan_id'])\n",
    "                    yield Row(\n",
    "                        task_id=task_id,\n",
    "                        point_clouds=[pc],\n",
    "                        cuboids=[])\n",
    "        \n",
    "        task_rdd = seg_rdd.mapPartitions(iter_task_rows)\n",
    "        return task_rdd\n",
    "        \n"
   ]
  },
  {
   "cell_type": "markdown",
   "metadata": {},
   "source": [
    "## Start Spark"
   ]
  },
  {
   "cell_type": "code",
   "execution_count": 3,
   "metadata": {},
   "outputs": [
    {
     "name": "stderr",
     "output_type": "stream",
     "text": [
      "2021-02-11 15:52:40,349\toarph 18187 : Using source root /opt/psegs/psegs \n",
      "2021-02-11 15:52:40,350\toarph 18187 : Using source root /opt/psegs \n",
      "2021-02-11 15:52:40,500\toarph 18187 : Generating egg to /tmp/tmpcb5qm_oj_oarphpy_eggbuild ...\n",
      "2021-02-11 15:52:40,594\toarph 18187 : ... done.  Egg at /tmp/tmpcb5qm_oj_oarphpy_eggbuild/psegs-0.0.0-py3.8.egg\n"
     ]
    }
   ],
   "source": [
    "from psegs.spark import NBSpark\n",
    "spark = NBSpark.getOrCreate()"
   ]
  },
  {
   "cell_type": "markdown",
   "metadata": {},
   "source": [
    "## Build Fused Lidar Assets\n",
    "\n",
    "```\n",
    "docker --context default run -it --name=potree_viewer --rm --net=host -v `pwd`:/shared  jonazpiazu/potree\n",
    "```"
   ]
  },
  {
   "cell_type": "code",
   "execution_count": 4,
   "metadata": {},
   "outputs": [
    {
     "name": "stderr",
     "output_type": "stream",
     "text": [
      "2021-02-11 15:52:43,852\tps   18187 : Found Sequence 00 with 4541 scans\n",
      "2021-02-11 15:52:43,856\tps   18187 : Found Sequence 01 with 1101 scans\n",
      "2021-02-11 15:52:43,861\tps   18187 : Found Sequence 02 with 4661 scans\n",
      "2021-02-11 15:52:43,864\tps   18187 : Found Sequence 03 with 801 scans\n",
      "2021-02-11 15:52:43,866\tps   18187 : Found Sequence 04 with 271 scans\n",
      "2021-02-11 15:52:43,871\tps   18187 : Found Sequence 05 with 2761 scans\n",
      "2021-02-11 15:52:43,874\tps   18187 : Found Sequence 06 with 1101 scans\n",
      "2021-02-11 15:52:43,877\tps   18187 : Found Sequence 07 with 1101 scans\n",
      "2021-02-11 15:52:43,880\tps   18187 : Found Sequence 09 with 1591 scans\n",
      "2021-02-11 15:52:43,884\tps   18187 : Found Sequence 10 with 1201 scans\n",
      "2021-02-11 15:52:43,884\tps   18187 : Found 19130 total scans\n",
      "2021-02-11 15:52:43,887\tps   18187 : Filtering to only 1 segments\n",
      "2021-02-11 15:52:43,888\tps   18187 : SemanticKITTIFusedWorldCloudTable building fused world clouds ...\n",
      "2021-02-11 15:52:43,889\tps   18187 : ... have 1 segments to fuse ...\n",
      "2021-02-11 15:52:43,890\tps   18187 : ... working on 01 ...\n",
      "2021-02-11 15:52:43,892\tps   18187 : Filtering to only 1 segments\n",
      "2021-02-11 15:52:43,892\tps   18187 : Finding scans for sequence 01 with no movering points ...\n",
      "2021-02-11 15:52:48,355\tps   18187 : ... sequence 01 has 168 scans with no movers.\n",
      "2021-02-11 15:52:59,826\tps   18187 : ... computed world cloud for 01 of shape (1230288, 3) (0.03 GB) ...\n",
      "2021-02-11 15:52:59,827\tps   18187 : ... writing ply to /opt/psegs/dataroot/fused_world_clouds/naive_cuboid_scrubber/semantikitti-psegs-fused/train/01/fused_world.ply ...\n",
      "2021-02-11 15:53:03,815\tps   18187 : ... done writing ply ...\n",
      "INFO - 2021-02-11 15:53:03,815 - fused_lidar - ... done writing ply ...\n",
      "2021-02-11 15:53:03,817\tps   18187 : ... SemanticKITTIFusedWorldCloudTable done fusing clouds.\n",
      "INFO - 2021-02-11 15:53:03,817 - fused_lidar - ... SemanticKITTIFusedWorldCloudTable done fusing clouds.\n"
     ]
    },
    {
     "name": "stdout",
     "output_type": "stream",
     "text": [
      "1\n"
     ]
    }
   ],
   "source": [
    "seg_uris = SemanticKITTIFusedWorldCloudTable.get_all_segment_uris()\n",
    "sd_rdd = SemanticKITTIFusedWorldCloudTable._get_segment_datum_rdd_or_df(spark, seg_uris[1])\n",
    "print(sd_rdd.count())"
   ]
  },
  {
   "cell_type": "code",
   "execution_count": null,
   "metadata": {},
   "outputs": [],
   "source": []
  },
  {
   "cell_type": "code",
   "execution_count": null,
   "metadata": {},
   "outputs": [],
   "source": []
  },
  {
   "cell_type": "code",
   "execution_count": null,
   "metadata": {},
   "outputs": [],
   "source": []
  },
  {
   "cell_type": "code",
   "execution_count": null,
   "metadata": {},
   "outputs": [],
   "source": []
  }
 ],
 "metadata": {
  "kernelspec": {
   "display_name": "Python 3",
   "language": "python",
   "name": "python3"
  },
  "language_info": {
   "codemirror_mode": {
    "name": "ipython",
    "version": 3
   },
   "file_extension": ".py",
   "mimetype": "text/x-python",
   "name": "python",
   "nbconvert_exporter": "python",
   "pygments_lexer": "ipython3",
   "version": "3.8.2"
  }
 },
 "nbformat": 4,
 "nbformat_minor": 4
}
